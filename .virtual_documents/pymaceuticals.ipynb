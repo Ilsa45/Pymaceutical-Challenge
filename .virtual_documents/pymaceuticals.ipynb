


# Dependencies and Setup
import matplotlib.pyplot as plt
import pandas as pd
import scipy.stats as st

# Study data files
mouse_metadata_path = "data/Mouse_metadata.csv"
study_results_path = "data/Study_results.csv"

# Read the mouse data and the study results
mouse_metadata = pd.read_csv(mouse_metadata_path)
study_results = pd.read_csv(study_results_path)

# Combine the data into a single DataFrame
mouse_study_complete = pd.merge(study_results, mouse_metadata, how="left", on = "Mouse ID")

# Display the data table for preview
mouse_study_complete.head()


# Checking the number of mice.
mouse_count = len(mouse_study_complete["Mouse ID"].unique())

mouse_count


# Our data should be uniquely identified by Mouse ID and Timepoint
# Get the duplicate mice by ID number that shows up for Mouse ID and Timepoint.
duplicate_ID = mouse_study_complete.loc[mouse_study_complete.duplicated(subset = ["Mouse ID", "Timepoint"]),"Mouse ID"].unique()
duplicate_ID


# Optional: Get all the data for the duplicate mouse ID.
duplicate_IDs = mouse_study_complete.loc[mouse_study_complete["Mouse ID"] == "g989"]

duplicate_IDs


# Create a clean DataFrame by dropping the duplicate mouse by its ID.

mouse_study_complete_unique = mouse_study_complete[mouse_study_complete['Mouse ID'].isin(duplicate_IDs)==False]

mouse_study_complete_unique.head()


# Checking the number of mice in the clean DataFrame.
mouse_count_unique = len(mouse_study_complete_unique['Mouse ID'].unique())

mouse_count_unique





# Generate a summary statistics table of mean, median, variance, standard deviation, and SEM of the tumor volume for each regimen

# Use groupby and summary statistical methods to calculate the following properties of each drug regimen:
# mean, median, variance, standard deviation, and SEM of the tumor volume.
# Assemble the resulting series into a single summary DataFrame.
means = mouse_study_complete_unique.groupby("Drug Regimen")["Tumor Volume (mm3)"].mean()
medians = mouse_study_complete_unique.groupby("Drug Regimen")["Tumor Volume (mm3)"].median()
variances = mouse_study_complete_unique.groupby("Drug Regimen")["Tumor Volume (mm3)"].var()
std = mouse_study_complete_unique.groupby("Drug Regimen")["Tumor Volume (mm3)"].std()
sem = mouse_study_complete_unique.groupby("Drug Regimen")["Tumor Volume (mm3)"].sem()
summary_table = pd.DataFrame({"Mean Tumor Volume":means,
                              "Median Tumor Volume":medians,
                              "Tumor Volume Variance":variances,
                              "Tumor Volume Std. Dev.":std,
                              "Tumor Volume Std. Err.":sem
                             })
summary_table


# A more advanced method to generate a summary statistics table of mean, median, variance, standard deviation,
# and SEM of the tumor volume for each regimen (only one method is required in the solution)

# Using the aggregation method, produce the same summary statistics in a single line

summary_table_adv = mouse_study_complete_unique.groupby("Drug Regimen").agg({"Tumor Volume (mm3)":["mean", "median", "var", "std", "sem"]})
summary_table_adv





# Generate a bar plot showing the total number of rows (Mouse ID/Timepoints) for each drug regimen using Pandas.
mouse_count = mouse_study_complete_unique["Drug Regimen"].value_counts()

mouse_count.plot(kind="bar")

plt.ylabel("# of Observed Mouse Timepoints")

plt.show()


# Generate a bar plot showing the total number of rows (Mouse ID/Timepoints) for each drug regimen using pyplot.
mouse_count = mouse_study_complete_unique["Drug Regimen"].value_counts()
plt.bar(mouse_count.index.values, mouse_count.values)
plt.xlabel("Drug Regimen")
plt.ylabel("# of Observed Mouse Timepoints")
plt.xticks(rotation = 90)

plt.show()


# Generate a pie chart, using Pandas, showing the distribution of unique female versus male mice used in the study

gender_data = mouse_study_complete_unique["Sex"].value_counts()
plt.title("Female vs. Male Mice")
gender_data.plot.pie(autopct= "%1.1f%%")
plt.show()





# Generate a pie chart, using pyplot, showing the distribution of unique female versus male mice used in the study

# Get the unique mice with their gender
labels = ['Female', 'Male']
sizes = [49.7999197, 50.200803]
plot = gender_data.plot.pie(y='Total Count', autopct="%1.1f%%")
plt.title('Male vs Female Mouse Population')
plt.ylabel('Sex')
plt.show()

# Make the pie chart






# Calculate the final tumor volume of each mouse across four of the treatment regimens:
# Capomulin, Ramicane, Infubinol, and Ceftamin

# Start by getting the last (greatest) timepoint for each mouse
max_timepoint_df = mouse_study_complete_unique.groupby(['Mouse ID'])['Timepoint'].max().reset_index()
max_timepoint_df = max_timepoint_df.rename(columns={'Timepoint': 'Max Timepoint'})

# Merge this group df with the original DataFrame to get the tumor volume at the last timepoint
merged_group_data = pd.merge(mouse_study_complete_unique, max_timepoint_df, on='Mouse ID')


# Put treatments into a list for for loop (and later for plot labels)
treatments_list = ['Capomulin', 'Ramicane', 'Infubinol', 'Ceftamin']

# Create empty list to fill with tumor vol data (for plotting)
tumor_volume_data = []

# Calculate the IQR and quantitatively determine if there are any potential outliers.

    # Locate the rows which contain mice on each drug and get the tumor volumes
for drug in treatments_list:
    drug_data = merged_group_data.loc[merged_group_data['Drug Regimen'] == drug]
    

    # add subset
    final_tumor_volume = drug_data.loc[drug_data['Timepoint'] == drug_data['Max Timepoint']]['Tumor Volume (mm3)']
    tumor_volume_data.append(final_tumor_volume)

    # Determine outliers using upper and lower bounds
for i, drug in enumerate(treatments_list):
    quartiles = tumor_volume_data[i].quantile([.25,.5,.75])
    lowerq = quartiles[0.25]
    upperq = quartiles[0.75]
    iqr = upperq-lowerq
    
    lower_bound = lowerq - (1.5*iqr)
    upper_bound = upperq + (1.5*iqr)
    
    outliers = tumor_volume_data[i][(tumor_volume_data[i] < lower_bound) | (tumor_volume_data[i] > upper_bound)]
    
    print(f"{drug} Potential Outliers: {outliers}")


# Generate a box plot that shows the distribution of the tumor volume for each treatment group.

# Create a list of the four treatment regimens
treatments = ['Capomulin', 'Ramicane', 'Infubinol', 'Ceftamin']

# Create an empty list to hold the final tumor volumes for each drug
final_volumes = []

# Loop through each drug in the treatment list
for drug in treatments:
    # Locate the rows in the merged DataFrame that correspond to each drug
    drug_data = merged_group_data.loc[merged_group_data['Drug Regimen'] == drug, 'Tumor Volume (mm3)']
    # Append the resulting final tumor volumes for each drug to the empty list
    final_volumes.append(drug_data)

# Create a box plot of the final tumor volumes for each drug
fig, ax = plt.subplots()
ax.boxplot(final_volumes, labels=treatments, showfliers=True, flierprops=dict(marker='o', markerfacecolor='blue', markersize=8))
ax.set_ylabel('Final Tumor Volume (mm3)')
plt.show()





# Generate a line plot of tumor volume vs. time point for a single mouse treated with Capomulin

# Create list of unique Mouse ID values of mice treated with Capomulin
capomulin_data = mouse_study_complete_unique[mouse_study_complete_unique['Drug Regimen'] == 'Capomulin']
capomulin_mice = capomulin_data['Mouse ID'].unique()

# Select a single Mouse ID from the list of unique Mouse ID values created above
selected_mouse_ID = capomulin_mice[0]

# Filter the DataFrame to include only the Mouse ID that is the selected Mouse ID
selected_mouse_data = capomulin_data[capomulin_data['Mouse ID'] == selected_mouse_ID]

# Create a line plot for tumor volume versus time point for the single selected mouse
plt.plot(selected_mouse_data['Timepoint'], selected_mouse_data['Tumor Volume (mm3)'])

# Format line plot
plt.xlabel('Timepoint (days)')
plt.ylabel('Tumor Volume (mm3)')
plt.title(f'Capomulin treatment of mouse {selected_mouse_ID}')


plt.show()


# Generate a scatter plot of mouse weight vs. the average observed tumor volume for the entire Capomulin regimen

# Calculate the average tumor volume for each mouse in the Capomulin group
avg_tumor_volume = capomulin_data.groupby('Mouse ID')['Tumor Volume (mm3)'].mean()

# Merge the average tumor volume data with the mouse metadata to get the weight for each mouse
capomulin_data_complete = pd.merge(avg_tumor_volume, mouse_metadata, on='Mouse ID')

# Create the scatter plot
plt.scatter(capomulin_data_complete['Weight (g)'], capomulin_data_complete['Tumor Volume (mm3)'])
plt.xlabel('Weight (g)')
plt.ylabel('Average Tumor Volume (mm3)')

plt.show()





# Calculate the correlation coefficient and a linear regression model
# for mouse weight and average observed tumor volume for the entire Capomulin regimen




